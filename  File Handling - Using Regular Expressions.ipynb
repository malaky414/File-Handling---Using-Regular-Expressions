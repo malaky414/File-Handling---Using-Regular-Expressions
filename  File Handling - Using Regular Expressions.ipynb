{
 "cells": [
  {
   "cell_type": "code",
   "execution_count": 1,
   "id": "eae0157c",
   "metadata": {},
   "outputs": [
    {
     "name": "stdout",
     "output_type": "stream",
     "text": [
      "Emails found: ['info@example.com', 'support@domain.net', 'sales@company.org']\n"
     ]
    }
   ],
   "source": [
    "import re\n",
    "text = \"Contact us at info@example.com, support@domain.net or sales@company.org for more details.\"\n",
    "pattern = r\"[a-zA-Z0-9._%+-]+@[a-zA-Z0-9.-]+\\.[a-zA-Z]{2,}\"\n",
    "emails = re.findall(pattern, text)\n",
    "print(\"Emails found:\", emails)"
   ]
  },
  {
   "cell_type": "code",
   "execution_count": 5,
   "id": "8f147141",
   "metadata": {},
   "outputs": [
    {
     "name": "stdout",
     "output_type": "stream",
     "text": [
      "+201012345678 +201112345678 Invalid Number +201212345678\n"
     ]
    }
   ],
   "source": [
    "text = \"Call us at +201012345678 or +201112345678. Or maybe 123-4567 or +201212345678\"\n",
    "pattern = r\"\\+20(10|11|12|15)\\d{8}\"\n",
    "\n",
    "def validate_egy_numbers(text):\n",
    "    words = re.findall(r\"\\+?\\d[\\d\\-()+.]*\", text)\n",
    "    validated = []\n",
    "    for word in words:\n",
    "        if re.fullmatch(pattern, word.strip(\".,\")):\n",
    "            validated.append(word.strip(\".,\"))\n",
    "        else:\n",
    "            validated.append(\"Invalid Number\")\n",
    "    return ' '.join(validated)\n",
    "\n",
    "print(validate_egy_numbers(text))\n"
   ]
  },
  {
   "cell_type": "code",
   "execution_count": 6,
   "id": "96bfb955",
   "metadata": {},
   "outputs": [
    {
     "name": "stdout",
     "output_type": "stream",
     "text": [
      "📅 Day: 25, Month: 12, Year: 2025\n"
     ]
    }
   ],
   "source": [
    "text = \"The event will be held on 25-12-2025. Please confirm.\"\n",
    "pattern = r\"(\\d{2})-(\\d{2})-(\\d{4})\"\n",
    "match = re.search(pattern, text)\n",
    "if match:\n",
    "    day, month, year = match.groups()\n",
    "    print(f\"📅 Day: {day}, Month: {month}, Year: {year}\")\n",
    "else:\n",
    "    print(\"❌ No date found.\")"
   ]
  },
  {
   "cell_type": "code",
   "execution_count": null,
   "id": "74817129",
   "metadata": {},
   "outputs": [],
   "source": []
  }
 ],
 "metadata": {
  "kernelspec": {
   "display_name": "Python 3 (ipykernel)",
   "language": "python",
   "name": "python3"
  },
  "language_info": {
   "codemirror_mode": {
    "name": "ipython",
    "version": 3
   },
   "file_extension": ".py",
   "mimetype": "text/x-python",
   "name": "python",
   "nbconvert_exporter": "python",
   "pygments_lexer": "ipython3",
   "version": "3.10.9"
  }
 },
 "nbformat": 4,
 "nbformat_minor": 5
}
